{
  "nbformat": 4,
  "nbformat_minor": 0,
  "metadata": {
    "colab": {
      "name": "conformer.ipynb",
      "provenance": [],
      "collapsed_sections": [],
      "authorship_tag": "ABX9TyOe1SoypcNY3rzEjheUOeUN",
      "include_colab_link": true
    },
    "kernelspec": {
      "name": "python3",
      "display_name": "Python 3"
    },
    "language_info": {
      "name": "python"
    },
    "accelerator": "GPU"
  },
  "cells": [
    {
      "cell_type": "markdown",
      "metadata": {
        "id": "view-in-github",
        "colab_type": "text"
      },
      "source": [
        "<a href=\"https://colab.research.google.com/github/Gongmengjie/speaker_classification/blob/main/conformer.ipynb\" target=\"_parent\"><img src=\"https://colab.research.google.com/assets/colab-badge.svg\" alt=\"Open In Colab\"/></a>"
      ]
    },
    {
      "cell_type": "code",
      "execution_count": 1,
      "metadata": {
        "colab": {
          "base_uri": "https://localhost:8080/"
        },
        "id": "Kfa93kh4uI_1",
        "outputId": "298fb1f3-0954-456e-fee6-7008f58669c9"
      },
      "outputs": [
        {
          "output_type": "stream",
          "name": "stdout",
          "text": [
            "Collecting conformer\n",
            "  Downloading conformer-0.2.5-py3-none-any.whl (4.1 kB)\n",
            "Requirement already satisfied: torch in /usr/local/lib/python3.7/dist-packages (from conformer) (1.10.0+cu111)\n",
            "Collecting einops\n",
            "  Downloading einops-0.4.0-py3-none-any.whl (28 kB)\n",
            "Requirement already satisfied: typing-extensions in /usr/local/lib/python3.7/dist-packages (from torch->conformer) (3.10.0.2)\n",
            "Installing collected packages: einops, conformer\n",
            "Successfully installed conformer-0.2.5 einops-0.4.0\n"
          ]
        }
      ],
      "source": [
        "pip install conformer"
      ]
    },
    {
      "cell_type": "code",
      "source": [
        "!wget https://www.dropbox.com/s/vw324newiku0sz0/Dataset.tar.gz.aa?dl=0\n",
        "!wget https://www.dropbox.com/s/z840g69e7lnkayo/Dataset.tar.gz.ab?dl=0\n",
        "!wget https://www.dropbox.com/s/hl081e1ggonio81/Dataset.tar.gz.ac?dl=0\n",
        "!wget https://www.dropbox.com/s/fh3zd8ow668c4th/Dataset.tar.gz.ad?dl=0\n",
        "!wget https://www.dropbox.com/s/ydzygoy2pv6gw9d/Dataset.tar.gz.ae?dl=0\n",
        "!cat Dataset.tar.gz.* | tar zxvf -"
      ],
      "metadata": {
        "id": "4dwuDiMAGxdF"
      },
      "execution_count": null,
      "outputs": []
    },
    {
      "cell_type": "code",
      "source": [
        "import os\n",
        "import json\n",
        "import torch\n",
        "import random\n",
        "from pathlib import Path\n",
        "from torch.utils.data import Dataset\n",
        "from torch.nn.utils.rnn import pad_sequence\n",
        "from conformer import ConformerBlock\n",
        "\n",
        "class myDataset(Dataset):\n",
        "  def __init__(self, data_dir, segment_len=128):\n",
        "    self.data_dir = data_dir\n",
        "    self.segment_len = segment_len\n",
        "\n",
        "    # Load the mapping from speaker neme to their corresponding id. \n",
        "    mapping_path = Path(data_dir, \"mapping.json\")\n",
        "    mapping = json.load(mapping_path.open())\n",
        "    self.speaker2id = mapping[\"speaker2id\"]\n",
        "\n",
        "    # Load metadata of training data.\n",
        "    metadata_path = Path(data_dir, \"metadata.json\")\n",
        "    metadata = json.load(open(metadata_path))[\"speakers\"]\n",
        "\n",
        "    # Get the total number of speaker.\n",
        "    self.speaker_num = len(metadata.keys())\n",
        "    self.data = []\n",
        "    for speaker in metadata.keys():\n",
        "      for utterances in metadata[speaker]:\n",
        "        self.data.append([utterances[\"feature_path\"], self.speaker2id[speaker]])\n",
        "\n",
        "  def __len__(self):\n",
        "    return len(self.data)\n",
        "\n",
        "  def __getitem__(self, index):\n",
        "    feat_path, speaker = self.data[index]\n",
        "    # Load preprocessed mel-spectrogram.\n",
        "    mel = torch.load(os.path.join(self.data_dir, feat_path))\n",
        "\n",
        "    # Segmemt mel-spectrogram into \"segment_len\" frames.\n",
        "    if len(mel) > self.segment_len:\n",
        "      # Randomly get the starting point of the segment.\n",
        "      start = random.randint(0, len(mel) - self.segment_len)\n",
        "      # Get a segment with \"segment_len\" frames.\n",
        "      mel = torch.FloatTensor(mel[start:start+self.segment_len])\n",
        "    else:\n",
        "      mel = torch.FloatTensor(mel)\n",
        "    # Turn the speaker id into long for computing loss later.\n",
        "    speaker = torch.FloatTensor([speaker]).long()\n",
        "    return mel, speaker\n",
        "\n",
        "  def get_speaker_number(self):\n",
        "    return self.speaker_num"
      ],
      "metadata": {
        "id": "wHQITK0Xuix6"
      },
      "execution_count": 3,
      "outputs": []
    },
    {
      "cell_type": "code",
      "source": [
        "import torch\n",
        "from torch.utils.data import DataLoader, random_split\n",
        "from torch.nn.utils.rnn import pad_sequence\n",
        "\n",
        "\n",
        "def collate_batch(batch):\n",
        "  # Process features within a batch.\n",
        "  \"\"\"Collate a batch of data.\"\"\"\n",
        "  mel, speaker = zip(*batch)\n",
        "  # Because we train the model batch by batch, we need to pad the features in the same batch to make their lengths the same.\n",
        "  mel = pad_sequence(mel, batch_first=True, padding_value=-20)    # pad log 10^(-20) which is very small value.\n",
        "  # mel: (batch size, length, 40)\n",
        "  return mel, torch.FloatTensor(speaker).long()\n",
        "\n",
        "\n",
        "def get_dataloader(data_dir, batch_size, n_workers):\n",
        "  \"\"\"Generate dataloader\"\"\"\n",
        "  dataset = myDataset(data_dir)\n",
        "  speaker_num = dataset.get_speaker_number()\n",
        "  # Split dataset into training dataset and validation dataset\n",
        "  trainlen = int(0.9 * len(dataset))\n",
        "  lengths = [trainlen, len(dataset) - trainlen]\n",
        "  trainset, validset = random_split(dataset, lengths)\n",
        "\n",
        "  train_loader = DataLoader(\n",
        "    trainset,\n",
        "    batch_size=batch_size,\n",
        "    shuffle=True,\n",
        "    drop_last=True,\n",
        "    num_workers=n_workers,\n",
        "    pin_memory=True,\n",
        "    collate_fn=collate_batch,\n",
        "  )\n",
        "  valid_loader = DataLoader(\n",
        "    validset,\n",
        "    batch_size=batch_size,\n",
        "    num_workers=n_workers,\n",
        "    drop_last=True,\n",
        "    pin_memory=True,\n",
        "    collate_fn=collate_batch,\n",
        "  )\n",
        "\n",
        "  return train_loader, valid_loader, speaker_num"
      ],
      "metadata": {
        "id": "PS0jjhnDyr_c"
      },
      "execution_count": 4,
      "outputs": []
    },
    {
      "cell_type": "code",
      "source": [
        "import torch\n",
        "import torch.nn as nn\n",
        "import torch.nn.functional as F\n",
        "\n",
        "\n",
        "class Classifier(nn.Module):\n",
        "  def __init__(self, d_model=512, n_spks=600, dropout=0.1): \n",
        "    super().__init__()\n",
        "    # Project the dimension of features from that of input into d_model.\n",
        "    # d_model = input_dim，可以改的大一些\n",
        "    # 前馈层\n",
        "    self.prenet = nn.Linear(40, d_model)\n",
        "\n",
        "\n",
        "    # 1.传统的transformer\n",
        "    # self.encoder_layer = nn.TransformerEncoderLayer(\n",
        "    #  d_model=d_model, dim_feedforward=256, nhead=8\n",
        "    # )\n",
        "    # self.encoder = nn.TransformerEncoder(self.encoder_layer, num_layers=4)\n",
        "\n",
        "    # 2.conformer(相对于单纯的transformer效果有所提升)\n",
        "    # TODO:\n",
        "    #   Change Transformer to Conformer.\n",
        "    #   https://arxiv.org/abs/2005.08100\n",
        "    self.conformer_block = ConformerBlock(\n",
        "    dim = 512,\n",
        "    dim_head = 64,\n",
        "    heads = 8,\n",
        "    ff_mult = 4,\n",
        "    conv_expansion_factor = 2,\n",
        "    conv_kernel_size = 31,\n",
        "    attn_dropout = 0.,\n",
        "    ff_dropout = 0.,\n",
        "    conv_dropout = 0.,\n",
        "  )\n",
        "    \n",
        "    # 前馈层\n",
        "    self.pred_layer = nn.Sequential(\n",
        "      nn.Linear(d_model, d_model),\n",
        "      nn.ReLU(),\n",
        "      nn.Linear(d_model, n_spks),\n",
        "    )\n",
        "\n",
        "  def forward(self, mels):\n",
        "    \"\"\"\n",
        "    args:\n",
        "      mels: (batch size, length, 40)\n",
        "    return:\n",
        "      out: (batch size, n_spks)\n",
        "    \"\"\"\n",
        "    # out: (batch size, length, d_model) = (32, 128, 512)\n",
        "    out = self.prenet(mels)\n",
        "    \n",
        "    out = self.conformer_block(out)\n",
        "    # mean pooling\n",
        "    stats = out.mean(dim=1) # (batch_size, d_model)\n",
        "\n",
        "    # out: (batch, n_spks)\n",
        "    out = self.pred_layer(stats)\n",
        "    return out"
      ],
      "metadata": {
        "id": "TQp6OvXdyy8w"
      },
      "execution_count": 5,
      "outputs": []
    },
    {
      "cell_type": "code",
      "source": [
        "import math\n",
        "\n",
        "import torch\n",
        "from torch.optim import Optimizer\n",
        "from torch.optim.lr_scheduler import LambdaLR\n",
        "\n",
        "\n",
        "def get_cosine_schedule_with_warmup(\n",
        "  optimizer: Optimizer,\n",
        "  num_warmup_steps: int,\n",
        "  num_training_steps: int,\n",
        "  num_cycles: float = 0.5,\n",
        "  last_epoch: int = -1,\n",
        "):\n",
        "  \"\"\"\n",
        "  Create a schedule with a learning rate that decreases following the values of the cosine function between the\n",
        "  initial lr set in the optimizer to 0, after a warmup period during which it increases linearly between 0 and the\n",
        "  initial lr set in the optimizer.\n",
        "\n",
        "  Args:\n",
        "    optimizer (:class:`~torch.optim.Optimizer`):\n",
        "      The optimizer for which to schedule the learning rate.\n",
        "    num_warmup_steps (:obj:`int`):\n",
        "      The number of steps for the warmup phase.\n",
        "    num_training_steps (:obj:`int`):\n",
        "      The total number of training steps.\n",
        "    num_cycles (:obj:`float`, `optional`, defaults to 0.5):\n",
        "      The number of waves in the cosine schedule (the defaults is to just decrease from the max value to 0\n",
        "      following a half-cosine).\n",
        "    last_epoch (:obj:`int`, `optional`, defaults to -1):\n",
        "      The index of the last epoch when resuming training.\n",
        "\n",
        "  Return:\n",
        "    :obj:`torch.optim.lr_scheduler.LambdaLR` with the appropriate schedule.\n",
        "  \"\"\"\n",
        "\n",
        "  def lr_lambda(current_step):\n",
        "    # Warmup\n",
        "    if current_step < num_warmup_steps:\n",
        "      return float(current_step) / float(max(1, num_warmup_steps))\n",
        "    # decadence\n",
        "    progress = float(current_step - num_warmup_steps) / float(\n",
        "      max(1, num_training_steps - num_warmup_steps)\n",
        "    )\n",
        "    return max(\n",
        "      0.0, 0.5 * (1.0 + math.cos(math.pi * float(num_cycles) * 2.0 * progress))\n",
        "    )\n",
        "\n",
        "  return LambdaLR(optimizer, lr_lambda, last_epoch)"
      ],
      "metadata": {
        "id": "2-0vga_ny7QQ"
      },
      "execution_count": 6,
      "outputs": []
    },
    {
      "cell_type": "code",
      "source": [
        "import torch\n",
        "\n",
        "\n",
        "def model_fn(batch, model, criterion, device):\n",
        "  \"\"\"Forward a batch through the model.\"\"\"\n",
        "\n",
        "  mels, labels = batch\n",
        "  mels = mels.to(device)\n",
        "  labels = labels.to(device)\n",
        "\n",
        "  outs = model(mels)\n",
        "\n",
        "  loss = criterion(outs, labels)\n",
        "\n",
        "  # Get the speaker id with highest probability.\n",
        "  preds = outs.argmax(1)\n",
        "  # Compute accuracy.\n",
        "  accuracy = torch.mean((preds == labels).float())\n",
        "\n",
        "  return loss, accuracy"
      ],
      "metadata": {
        "id": "RuA2tXHyzEK5"
      },
      "execution_count": 7,
      "outputs": []
    },
    {
      "cell_type": "code",
      "source": [
        "from tqdm import tqdm\n",
        "import torch\n",
        "\n",
        "\n",
        "def valid(dataloader, model, criterion, device): \n",
        "  \"\"\"Validate on validation set.\"\"\"\n",
        "\n",
        "  model.eval()\n",
        "  running_loss = 0.0\n",
        "  running_accuracy = 0.0\n",
        "  pbar = tqdm(total=len(dataloader.dataset), ncols=0, desc=\"Valid\", unit=\" uttr\")\n",
        "\n",
        "  for i, batch in enumerate(dataloader):\n",
        "    with torch.no_grad():\n",
        "      loss, accuracy = model_fn(batch, model, criterion, device)\n",
        "      running_loss += loss.item()\n",
        "      running_accuracy += accuracy.item()\n",
        "\n",
        "    pbar.update(dataloader.batch_size)\n",
        "    pbar.set_postfix(\n",
        "      loss=f\"{running_loss / (i+1):.2f}\",\n",
        "      accuracy=f\"{running_accuracy / (i+1):.2f}\",\n",
        "    )\n",
        "\n",
        "  pbar.close()\n",
        "  model.train()\n",
        "\n",
        "  return running_accuracy / len(dataloader)"
      ],
      "metadata": {
        "id": "fG8dSEfTzG2z"
      },
      "execution_count": 8,
      "outputs": []
    },
    {
      "cell_type": "code",
      "source": [
        "from tqdm import tqdm\n",
        "\n",
        "import torch\n",
        "import torch.nn as nn\n",
        "from torch.optim import AdamW\n",
        "from torch.utils.data import DataLoader, random_split\n",
        "\n",
        "\n",
        "def parse_args():\n",
        "  \"\"\"arguments\"\"\"\n",
        "  config = {\n",
        "    \"data_dir\": \"./Dataset\",\n",
        "    \"save_path\": \"model.ckpt\",\n",
        "    \"batch_size\": 32,\n",
        "    \"n_workers\": 8,\n",
        "    \"valid_steps\": 2000,\n",
        "    \"warmup_steps\": 1000,\n",
        "    \"save_steps\": 10000,\n",
        "    \"total_steps\": 70000,\n",
        "  }\n",
        "\n",
        "  return config\n",
        "\n",
        "\n",
        "def main(\n",
        "  data_dir,\n",
        "  save_path,\n",
        "  batch_size,\n",
        "  n_workers,\n",
        "  valid_steps,\n",
        "  warmup_steps,\n",
        "  total_steps,\n",
        "  save_steps,\n",
        "):\n",
        "  \"\"\"Main function.\"\"\"\n",
        "  device = torch.device(\"cuda\" if torch.cuda.is_available() else \"cpu\")\n",
        "  print(f\"[Info]: Use {device} now!\")\n",
        "\n",
        "  train_loader, valid_loader, speaker_num = get_dataloader(data_dir, batch_size, n_workers)\n",
        "  train_iterator = iter(train_loader)\n",
        "  print(f\"[Info]: Finish loading data!\",flush = True)\n",
        "\n",
        "  model = Classifier(n_spks=speaker_num).to(device)\n",
        "  criterion = nn.CrossEntropyLoss()\n",
        "  optimizer = AdamW(model.parameters(), lr=1e-3)\n",
        "  scheduler = get_cosine_schedule_with_warmup(optimizer, warmup_steps, total_steps)\n",
        "  print(f\"[Info]: Finish creating model!\",flush = True)\n",
        "\n",
        "  best_accuracy = -1.0\n",
        "  best_state_dict = None\n",
        "\n",
        "  pbar = tqdm(total=valid_steps, ncols=0, desc=\"Train\", unit=\" step\")\n",
        "\n",
        "  for step in range(total_steps):\n",
        "    # Get data\n",
        "    try:\n",
        "      batch = next(train_iterator)\n",
        "    except StopIteration:\n",
        "      train_iterator = iter(train_loader)\n",
        "      batch = next(train_iterator)\n",
        "\n",
        "    loss, accuracy = model_fn(batch, model, criterion, device)\n",
        "    batch_loss = loss.item()\n",
        "    batch_accuracy = accuracy.item()\n",
        "\n",
        "    # Updata model\n",
        "    loss.backward()\n",
        "    optimizer.step()\n",
        "    scheduler.step()\n",
        "    optimizer.zero_grad()\n",
        "    \n",
        "    # Log\n",
        "    pbar.update()\n",
        "    pbar.set_postfix(\n",
        "      loss=f\"{batch_loss:.2f}\",\n",
        "      accuracy=f\"{batch_accuracy:.2f}\",\n",
        "      step=step + 1,\n",
        "    )\n",
        "\n",
        "    # Do validation\n",
        "    if (step + 1) % valid_steps == 0:\n",
        "      pbar.close()\n",
        "\n",
        "      valid_accuracy = valid(valid_loader, model, criterion, device)\n",
        "\n",
        "      # keep the best model\n",
        "      if valid_accuracy > best_accuracy:\n",
        "        best_accuracy = valid_accuracy\n",
        "        best_state_dict = model.state_dict()\n",
        "\n",
        "      pbar = tqdm(total=valid_steps, ncols=0, desc=\"Train\", unit=\" step\")\n",
        "\n",
        "    # Save the best model so far.\n",
        "    if (step + 1) % save_steps == 0 and best_state_dict is not None:\n",
        "      torch.save(best_state_dict, save_path)\n",
        "      pbar.write(f\"Step {step + 1}, best model saved. (accuracy={best_accuracy:.4f})\")\n",
        "\n",
        "  pbar.close()\n",
        "\n",
        "\n",
        "if __name__ == \"__main__\":\n",
        "  main(**parse_args())"
      ],
      "metadata": {
        "colab": {
          "base_uri": "https://localhost:8080/"
        },
        "id": "nNxr0N07zJ87",
        "outputId": "def26fc9-b662-4064-e910-5af68d69c3bf"
      },
      "execution_count": 9,
      "outputs": [
        {
          "metadata": {
            "tags": null
          },
          "name": "stdout",
          "output_type": "stream",
          "text": [
            "[Info]: Use cuda now!\n"
          ]
        },
        {
          "metadata": {
            "tags": null
          },
          "name": "stderr",
          "output_type": "stream",
          "text": [
            "/usr/local/lib/python3.7/dist-packages/torch/utils/data/dataloader.py:481: UserWarning: This DataLoader will create 8 worker processes in total. Our suggested max number of worker in current system is 2, which is smaller than what this DataLoader is going to create. Please be aware that excessive worker creation might get DataLoader running slow or even freeze, lower the worker number to avoid potential slowness/freeze if necessary.\n",
            "  cpuset_checked))\n"
          ]
        },
        {
          "metadata": {
            "tags": null
          },
          "name": "stdout",
          "output_type": "stream",
          "text": [
            "[Info]: Finish loading data!\n",
            "[Info]: Finish creating model!\n"
          ]
        },
        {
          "metadata": {
            "tags": null
          },
          "name": "stderr",
          "output_type": "stream",
          "text": [
            "Train: 100% 2000/2000 [01:57<00:00, 17.06 step/s, accuracy=0.47, loss=2.47, step=2000]\n",
            "Valid: 100% 6944/6944 [00:12<00:00, 561.93 uttr/s, accuracy=0.31, loss=3.18]\n",
            "Train: 100% 2000/2000 [01:47<00:00, 18.58 step/s, accuracy=0.50, loss=2.17, step=4000]\n",
            "Valid: 100% 6944/6944 [00:10<00:00, 650.20 uttr/s, accuracy=0.43, loss=2.55]\n",
            "Train: 100% 2000/2000 [01:47<00:00, 18.67 step/s, accuracy=0.53, loss=2.15, step=6000]\n",
            "Valid: 100% 6944/6944 [00:10<00:00, 666.40 uttr/s, accuracy=0.50, loss=2.20]\n",
            "Train: 100% 2000/2000 [01:47<00:00, 18.69 step/s, accuracy=0.62, loss=1.70, step=8000]\n",
            "Valid: 100% 6944/6944 [00:10<00:00, 657.22 uttr/s, accuracy=0.57, loss=1.81]\n",
            "Train: 100% 2000/2000 [01:47<00:00, 18.66 step/s, accuracy=0.75, loss=1.33, step=1e+4]\n",
            "Valid: 100% 6944/6944 [00:10<00:00, 656.44 uttr/s, accuracy=0.61, loss=1.64]\n",
            "Train:   0% 3/2000 [00:00<02:52, 11.57 step/s, accuracy=0.69, loss=0.99, step=1e+4]"
          ]
        },
        {
          "metadata": {
            "tags": null
          },
          "name": "stdout",
          "output_type": "stream",
          "text": [
            "Step 10000, best model saved. (accuracy=0.6070)\n"
          ]
        },
        {
          "metadata": {
            "tags": null
          },
          "name": "stderr",
          "output_type": "stream",
          "text": [
            "Train: 100% 2000/2000 [01:47<00:00, 18.62 step/s, accuracy=0.69, loss=1.22, step=12000]\n",
            "Valid: 100% 6944/6944 [00:10<00:00, 660.28 uttr/s, accuracy=0.65, loss=1.56]\n",
            "Train: 100% 2000/2000 [01:47<00:00, 18.57 step/s, accuracy=0.81, loss=0.57, step=14000]\n",
            "Valid: 100% 6944/6944 [00:10<00:00, 645.01 uttr/s, accuracy=0.66, loss=1.45]\n",
            "Train: 100% 2000/2000 [01:47<00:00, 18.63 step/s, accuracy=0.69, loss=1.20, step=16000]\n",
            "Valid: 100% 6944/6944 [00:10<00:00, 658.07 uttr/s, accuracy=0.68, loss=1.36]\n",
            "Train: 100% 2000/2000 [01:47<00:00, 18.67 step/s, accuracy=0.72, loss=1.45, step=18000]\n",
            "Valid: 100% 6944/6944 [00:10<00:00, 665.54 uttr/s, accuracy=0.70, loss=1.31]\n",
            "Train: 100% 2000/2000 [01:47<00:00, 18.69 step/s, accuracy=0.75, loss=0.83, step=2e+4]\n",
            "Valid: 100% 6944/6944 [00:10<00:00, 658.36 uttr/s, accuracy=0.71, loss=1.23]\n",
            "Train:   0% 3/2000 [00:00<03:02, 10.96 step/s, accuracy=0.75, loss=1.04, step=2e+4]"
          ]
        },
        {
          "metadata": {
            "tags": null
          },
          "name": "stdout",
          "output_type": "stream",
          "text": [
            "Step 20000, best model saved. (accuracy=0.7074)\n"
          ]
        },
        {
          "metadata": {
            "tags": null
          },
          "name": "stderr",
          "output_type": "stream",
          "text": [
            "Train: 100% 2000/2000 [01:47<00:00, 18.67 step/s, accuracy=0.81, loss=0.66, step=22000]\n",
            "Valid: 100% 6944/6944 [00:10<00:00, 650.66 uttr/s, accuracy=0.73, loss=1.17]\n",
            "Train: 100% 2000/2000 [01:47<00:00, 18.64 step/s, accuracy=0.84, loss=0.54, step=24000]\n",
            "Valid: 100% 6944/6944 [00:10<00:00, 636.45 uttr/s, accuracy=0.73, loss=1.15]\n",
            "Train: 100% 2000/2000 [01:47<00:00, 18.66 step/s, accuracy=0.94, loss=0.26, step=26000]\n",
            "Valid: 100% 6944/6944 [00:10<00:00, 638.44 uttr/s, accuracy=0.75, loss=1.10]\n",
            "Train: 100% 2000/2000 [01:47<00:00, 18.66 step/s, accuracy=0.69, loss=0.72, step=28000]\n",
            "Valid: 100% 6944/6944 [00:10<00:00, 645.70 uttr/s, accuracy=0.76, loss=1.05]\n",
            "Train: 100% 2000/2000 [01:47<00:00, 18.66 step/s, accuracy=0.84, loss=0.41, step=3e+4]\n",
            "Valid: 100% 6944/6944 [00:10<00:00, 633.86 uttr/s, accuracy=0.78, loss=0.98]\n",
            "Train:   0% 3/2000 [00:00<03:18, 10.04 step/s, accuracy=0.91, loss=0.38, step=3e+4]"
          ]
        },
        {
          "metadata": {
            "tags": null
          },
          "name": "stdout",
          "output_type": "stream",
          "text": [
            "Step 30000, best model saved. (accuracy=0.7753)\n"
          ]
        },
        {
          "metadata": {
            "tags": null
          },
          "name": "stderr",
          "output_type": "stream",
          "text": [
            "Train: 100% 2000/2000 [01:47<00:00, 18.59 step/s, accuracy=0.78, loss=0.63, step=32000]\n",
            "Valid: 100% 6944/6944 [00:11<00:00, 585.24 uttr/s, accuracy=0.78, loss=0.95]\n",
            "Train: 100% 2000/2000 [01:46<00:00, 18.70 step/s, accuracy=0.81, loss=0.59, step=34000]\n",
            "Valid: 100% 6944/6944 [00:11<00:00, 630.23 uttr/s, accuracy=0.79, loss=0.93]\n",
            "Train: 100% 2000/2000 [01:47<00:00, 18.68 step/s, accuracy=0.88, loss=0.36, step=36000]\n",
            "Valid: 100% 6944/6944 [00:10<00:00, 638.00 uttr/s, accuracy=0.80, loss=0.92]\n",
            "Train: 100% 2000/2000 [01:47<00:00, 18.67 step/s, accuracy=0.88, loss=0.69, step=38000]\n",
            "Valid: 100% 6944/6944 [00:10<00:00, 657.53 uttr/s, accuracy=0.81, loss=0.86]\n",
            "Train: 100% 2000/2000 [01:47<00:00, 18.68 step/s, accuracy=0.94, loss=0.24, step=4e+4]\n",
            "Valid: 100% 6944/6944 [00:10<00:00, 674.77 uttr/s, accuracy=0.81, loss=0.87]\n",
            "Train:   0% 3/2000 [00:00<02:52, 11.57 step/s, accuracy=0.91, loss=0.32, step=4e+4]"
          ]
        },
        {
          "metadata": {
            "tags": null
          },
          "name": "stdout",
          "output_type": "stream",
          "text": [
            "Step 40000, best model saved. (accuracy=0.8131)\n"
          ]
        },
        {
          "metadata": {
            "tags": null
          },
          "name": "stderr",
          "output_type": "stream",
          "text": [
            "Train: 100% 2000/2000 [01:46<00:00, 18.70 step/s, accuracy=0.88, loss=0.33, step=42000]\n",
            "Valid: 100% 6944/6944 [00:10<00:00, 667.34 uttr/s, accuracy=0.81, loss=0.86]\n",
            "Train: 100% 2000/2000 [01:46<00:00, 18.71 step/s, accuracy=0.91, loss=0.27, step=44000]\n",
            "Valid: 100% 6944/6944 [00:10<00:00, 632.37 uttr/s, accuracy=0.83, loss=0.77]\n",
            "Train: 100% 2000/2000 [01:46<00:00, 18.70 step/s, accuracy=0.91, loss=0.41, step=46000]\n",
            "Valid: 100% 6944/6944 [00:11<00:00, 629.66 uttr/s, accuracy=0.83, loss=0.74]\n",
            "Train: 100% 2000/2000 [01:47<00:00, 18.67 step/s, accuracy=0.97, loss=0.18, step=48000]\n",
            "Valid: 100% 6944/6944 [00:11<00:00, 626.02 uttr/s, accuracy=0.84, loss=0.75]\n",
            "Train: 100% 2000/2000 [01:47<00:00, 18.65 step/s, accuracy=0.81, loss=0.49, step=5e+4]\n",
            "Valid: 100% 6944/6944 [00:11<00:00, 625.41 uttr/s, accuracy=0.84, loss=0.74]\n",
            "Train:   0% 3/2000 [00:00<02:50, 11.73 step/s, accuracy=0.94, loss=0.23, step=5e+4]"
          ]
        },
        {
          "metadata": {
            "tags": null
          },
          "name": "stdout",
          "output_type": "stream",
          "text": [
            "Step 50000, best model saved. (accuracy=0.8416)\n"
          ]
        },
        {
          "metadata": {
            "tags": null
          },
          "name": "stderr",
          "output_type": "stream",
          "text": [
            "Train: 100% 2000/2000 [01:47<00:00, 18.67 step/s, accuracy=0.91, loss=0.42, step=52000]\n",
            "Valid: 100% 6944/6944 [00:10<00:00, 636.46 uttr/s, accuracy=0.85, loss=0.73]\n",
            "Train: 100% 2000/2000 [01:47<00:00, 18.67 step/s, accuracy=0.97, loss=0.14, step=54000]\n",
            "Valid: 100% 6944/6944 [00:11<00:00, 631.14 uttr/s, accuracy=0.85, loss=0.74]\n",
            "Train: 100% 2000/2000 [01:47<00:00, 18.65 step/s, accuracy=0.97, loss=0.09, step=56000]\n",
            "Valid: 100% 6944/6944 [00:10<00:00, 641.93 uttr/s, accuracy=0.85, loss=0.71]\n",
            "Train: 100% 2000/2000 [01:47<00:00, 18.64 step/s, accuracy=0.97, loss=0.13, step=58000]\n",
            "Valid: 100% 6944/6944 [00:10<00:00, 637.99 uttr/s, accuracy=0.86, loss=0.69]\n",
            "Train: 100% 2000/2000 [01:47<00:00, 18.59 step/s, accuracy=0.94, loss=0.15, step=6e+4]\n",
            "Valid: 100% 6944/6944 [00:11<00:00, 623.08 uttr/s, accuracy=0.86, loss=0.70]\n",
            "Train:   0% 3/2000 [00:00<02:46, 12.01 step/s, accuracy=1.00, loss=0.01, step=6e+4]"
          ]
        },
        {
          "metadata": {
            "tags": null
          },
          "name": "stdout",
          "output_type": "stream",
          "text": [
            "Step 60000, best model saved. (accuracy=0.8600)\n"
          ]
        },
        {
          "output_type": "stream",
          "name": "stderr",
          "text": [
            "Train: 100% 2000/2000 [01:47<00:00, 18.62 step/s, accuracy=1.00, loss=0.04, step=62000]\n",
            "Valid: 100% 6944/6944 [00:11<00:00, 625.59 uttr/s, accuracy=0.86, loss=0.68]\n",
            "Train: 100% 2000/2000 [01:47<00:00, 18.60 step/s, accuracy=0.91, loss=0.29, step=64000]\n",
            "Valid: 100% 6944/6944 [00:12<00:00, 575.48 uttr/s, accuracy=0.86, loss=0.66]\n",
            "Train: 100% 2000/2000 [01:47<00:00, 18.62 step/s, accuracy=0.97, loss=0.09, step=66000]\n",
            "Valid: 100% 6944/6944 [00:11<00:00, 606.72 uttr/s, accuracy=0.86, loss=0.68]\n",
            "Train: 100% 2000/2000 [01:47<00:00, 18.68 step/s, accuracy=0.97, loss=0.19, step=68000]\n",
            "Valid: 100% 6944/6944 [00:11<00:00, 600.06 uttr/s, accuracy=0.86, loss=0.67]\n",
            "Train: 100% 2000/2000 [01:48<00:00, 18.41 step/s, accuracy=0.97, loss=0.10, step=7e+4]\n",
            "Valid: 100% 6944/6944 [00:11<00:00, 612.43 uttr/s, accuracy=0.87, loss=0.62]\n",
            "Train:   0% 0/2000 [00:00<?, ? step/s]\n"
          ]
        },
        {
          "output_type": "stream",
          "name": "stdout",
          "text": [
            "Step 70000, best model saved. (accuracy=0.8695)\n"
          ]
        }
      ]
    },
    {
      "cell_type": "code",
      "source": [
        ""
      ],
      "metadata": {
        "id": "JjVkQ0Y9ES88"
      },
      "execution_count": null,
      "outputs": []
    }
  ]
}